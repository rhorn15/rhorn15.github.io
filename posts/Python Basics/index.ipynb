{
 "cells": [
  {
   "cell_type": "markdown",
   "metadata": {},
   "source": [
    "---\n",
    "title: BLOG_TITLE\n",
    "author: YOUR_NAME\n",
    "date: 2025-02-14\n",
    "categories: [tag_1, tag_2, tag_3] # tags for a blog post (e.g., python)\n",
    "image: \"image.png\"\n",
    "\n",
    "toc: true\n",
    "---"
   ]
  }
 ],
 "metadata": {
  "kernelspec": {
   "display_name": "base",
   "language": "python",
   "name": "python3"
  },
  "language_info": {
   "name": "python",
   "version": "3.12.2"
  }
 },
 "nbformat": 4,
 "nbformat_minor": 2
}
