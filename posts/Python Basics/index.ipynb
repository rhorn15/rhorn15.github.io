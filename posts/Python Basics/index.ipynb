{
 "cells": [
  {
   "cell_type": "markdown",
   "metadata": {},
   "source": [
    "---\n",
    "title: Python Basics\n",
    "author: Ryan Horn\n",
    "date: 2025-02-14\n",
    "categories: [Lecture 4, Lecture 5, Classwork 4] # tags for a blog post (e.g., python)\n",
    "image: 'Python_img.jpeg'\n",
    "\n",
    "toc: true\n",
    "---"
   ]
  }
 ],
 "metadata": {
  "kernelspec": {
   "display_name": "base",
   "language": "python",
   "name": "python3"
  },
  "language_info": {
   "name": "python",
   "version": "3.12.2"
  }
 },
 "nbformat": 4,
 "nbformat_minor": 2
}
