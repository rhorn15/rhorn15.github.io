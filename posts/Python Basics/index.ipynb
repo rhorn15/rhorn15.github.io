{
 "cells": [
  {
   "cell_type": "markdown",
   "metadata": {},
   "source": [
    "---\n",
    "title: Python Basics\n",
    "author: Ryan Horn\n",
    "date: 2025-02-14\n",
    "categories: [Python coding] # tags for a blog post (e.g., python)\n",
    "image: 'Python_img.jpeg'\n",
    "\n",
    "toc: true\n",
    "---"
   ]
  },
  {
   "cell_type": "markdown",
   "metadata": {},
   "source": [
    "# Lecture 4\n",
    "\n",
    "In lecture 4 we worked with various aspects of python including, values, variables, types, assignments, basic code, and comment styles."
   ]
  },
  {
   "cell_type": "markdown",
   "metadata": {},
   "source": [
    "# Lecture 5\n",
    "\n",
    "In lecture 5 we expanded on what we learned in lecture 4 and introduced many more aspects of python. Some of these included Booleans, conditions, and if statements. On top of that we started using slicing methods for strings and lists and many more."
   ]
  },
  {
   "cell_type": "markdown",
   "metadata": {},
   "source": [
    "# Classwork 4\n",
    "\n",
    "In classwork 4 we started with using pythons syntax to solve an algabreaic equation. We then practiced with lists, slicing, while and for loops, and importing libraries."
   ]
  }
 ],
 "metadata": {
  "kernelspec": {
   "display_name": "base",
   "language": "python",
   "name": "python3"
  },
  "language_info": {
   "codemirror_mode": {
    "name": "ipython",
    "version": 3
   },
   "file_extension": ".py",
   "mimetype": "text/x-python",
   "name": "python",
   "nbconvert_exporter": "python",
   "pygments_lexer": "ipython3",
   "version": "3.12.2"
  }
 },
 "nbformat": 4,
 "nbformat_minor": 2
}
