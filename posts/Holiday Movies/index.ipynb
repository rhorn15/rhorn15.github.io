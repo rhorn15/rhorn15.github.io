{
 "cells": [
  {
   "cell_type": "markdown",
   "metadata": {},
   "source": [
    "---\n",
    "title: Holiday Movies\n",
    "author: Ryan Horn\n",
    "date: 2025-03-31\n",
    "categories: [Python coding] # tags for a blog post (e.g., python)\n",
    "image: 'holiday_movie_pic.jpeg'\n",
    "\n",
    "toc: true\n",
    "---"
   ]
  }
 ],
 "metadata": {
  "language_info": {
   "name": "python"
  }
 },
 "nbformat": 4,
 "nbformat_minor": 2
}
