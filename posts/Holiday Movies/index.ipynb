{
 "cells": [
  {
   "cell_type": "markdown",
   "metadata": {},
   "source": [
    "---\n",
    "title: Holiday Movies\n",
    "author: Ryan Horn\n",
    "date: 2025-04-09\n",
    "categories: [Python coding] # tags for a blog post (e.g., python)\n",
    "image: 'holiday_movie_pic.jpeg'\n",
    "\n",
    "toc: true\n",
    "---"
   ]
  }
 ],
 "metadata": {
  "kernelspec": {
   "display_name": "base",
   "language": "python",
   "name": "python3"
  },
  "language_info": {
   "name": "python",
   "version": "3.12.2"
  }
 },
 "nbformat": 4,
 "nbformat_minor": 2
}
